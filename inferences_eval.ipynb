{
 "cells": [
  {
   "cell_type": "code",
   "execution_count": 25,
   "metadata": {},
   "outputs": [
    {
     "data": {
      "text/plain": [
       "{'SwinTransformerBase224_ce': '80.10%',\n",
       " 'EfficientViTB3MultiHeadV2': '61.39%',\n",
       " 'FocalNetTinySRFMultiHeadV2': '81.44%',\n",
       " 'SwinTransformerBase224': '79.01%',\n",
       " 'SwinTransformerBase224_focal': '76.87%'}"
      ]
     },
     "execution_count": 25,
     "metadata": {},
     "output_type": "execute_result"
    }
   ],
   "source": [
    "import os\n",
    "import pandas as pd\n",
    "from glob import glob\n",
    "\n",
    "\n",
    "model_dict = {}\n",
    "ground_truth = pd.read_csv(\"./comparisons.csv\")[\"MODE\"]\n",
    "models = os.listdir(os.path.join(\"./results/\"))\n",
    "submissions = glob(\"./results/*\" + \"/submission.csv\")\n",
    "\n",
    "for model, submission_path in zip(models, submissions):\n",
    "    inference = pd.read_csv(submission_path)[\"ans\"]\n",
    "    total = len(inference)\n",
    "    accuracy = sum(ground_truth == inference) / total\n",
    "    model_dict[model] = f\"{accuracy * 100:.2f}%\"\n",
    "\n",
    "model_dict  # 대략적인 모델별 추론 정확도가 담긴 딕셔너리"
   ]
  },
  {
   "cell_type": "code",
   "execution_count": 16,
   "metadata": {},
   "outputs": [
    {
     "data": {
      "text/plain": [
       "['EfficientViTB3MultiHeadV2',\n",
       " 'FocalNetTinySRFMultiHeadV2',\n",
       " 'SwinTransformerBase224',\n",
       " 'SwinTransformerBase224_focal',\n",
       " 'SwinTransformerBase224_Decay4_lr0.0001']"
      ]
     },
     "execution_count": 16,
     "metadata": {},
     "output_type": "execute_result"
    }
   ],
   "source": []
  }
 ],
 "metadata": {
  "kernelspec": {
   "display_name": "base",
   "language": "python",
   "name": "python3"
  },
  "language_info": {
   "codemirror_mode": {
    "name": "ipython",
    "version": 3
   },
   "file_extension": ".py",
   "mimetype": "text/x-python",
   "name": "python",
   "nbconvert_exporter": "python",
   "pygments_lexer": "ipython3",
   "version": "3.10.13"
  }
 },
 "nbformat": 4,
 "nbformat_minor": 2
}
