{
 "cells": [
  {
   "cell_type": "code",
   "execution_count": 3,
   "metadata": {},
   "outputs": [
    {
     "name": "stdout",
     "output_type": "stream",
     "text": [
      "EfficientViTB3MultiHeadV2 ./results/EfficientViTB3MultiHeadV2/submission.csv\n",
      "FocalNetTinySRFMultiHeadV2 ./results/FocalNetTinySRFMultiHeadV2/submission.csv\n",
      "SwinTransformerBase224 ./results/SwinTransformerBase224/submission.csv\n",
      "SwinTransformerBase224V1_focal_W2 ./results/SwinTransformerBase224V1_focal_W2/submission.csv\n",
      "SwinTransformerBase224_best_loss ./results/SwinTransformerBase224_best_loss/submission.csv\n",
      "SwinTransformerBase224_focal ./results/SwinTransformerBase224_focal/submission.csv\n",
      "SwinTransformerBase224V2 ./results/SwinTransformerBase224V2/submission.csv\n",
      "SwinTransformerBase224V1_focal_W1 ./results/SwinTransformerBase224V1_focal_W1/submission.csv\n"
     ]
    },
    {
     "data": {
      "text/plain": [
       "{'EfficientViTB3MultiHeadV2': '80.10%',\n",
       " 'FocalNetTinySRFMultiHeadV2': '61.39%',\n",
       " 'SwinTransformerBase224': '81.44%',\n",
       " 'SwinTransformerBase224V1_focal_W2': '78.72%',\n",
       " 'SwinTransformerBase224_best_loss': '77.55%',\n",
       " 'SwinTransformerBase224_focal': '79.01%',\n",
       " 'SwinTransformerBase224V2': '78.93%',\n",
       " 'SwinTransformerBase224V1_focal_W1': '74.79%'}"
      ]
     },
     "execution_count": 3,
     "metadata": {},
     "output_type": "execute_result"
    }
   ],
   "source": [
    "import os\n",
    "import pandas as pd\n",
    "from glob import glob\n",
    "\n",
    "\n",
    "model_dict = {}\n",
    "ground_truth = pd.read_csv(\"./comparisons.csv\")[\"MODE\"]\n",
    "models = os.listdir(os.path.join(\"./results/\"))\n",
    "submissions = glob(\"./results/*\" + \"/submission.csv\")\n",
    "\n",
    "for model, submission_path in zip(models, submissions):\n",
    "    print(model, submission_path)\n",
    "    inference = pd.read_csv(submission_path)[\"ans\"]\n",
    "    total = len(inference)\n",
    "    accuracy = sum(ground_truth == inference) / total\n",
    "    model_dict[model] = f\"{accuracy * 100:.2f}%\"\n",
    "\n",
    "model_dict  # 대략적인 모델별 추론 정확도가 담긴 딕셔너리"
   ]
  },
  {
   "cell_type": "code",
   "execution_count": null,
   "metadata": {},
   "outputs": [],
   "source": []
  }
 ],
 "metadata": {
  "kernelspec": {
   "display_name": "base",
   "language": "python",
   "name": "python3"
  },
  "language_info": {
   "codemirror_mode": {
    "name": "ipython",
    "version": 3
   },
   "file_extension": ".py",
   "mimetype": "text/x-python",
   "name": "python",
   "nbconvert_exporter": "python",
   "pygments_lexer": "ipython3",
   "version": "3.10.13"
  }
 },
 "nbformat": 4,
 "nbformat_minor": 2
}
