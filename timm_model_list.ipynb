{
 "cells": [
  {
   "cell_type": "code",
   "execution_count": 101,
   "metadata": {},
   "outputs": [],
   "source": [
    "import timm\n",
    "import torch\n",
    "import torch.nn as nn\n",
    "from torchsummary import summary"
   ]
  },
  {
   "cell_type": "code",
   "execution_count": 138,
   "metadata": {},
   "outputs": [],
   "source": [
    "# net = timm.create_model(\"efficientvit_m5\", pretrained=True)\n",
    "net = timm.create_model(\"swin_base_patch4_window7_224\", pretrained=True, num_classes=18)\n",
    "net"
   ]
  },
  {
   "cell_type": "code",
   "execution_count": null,
   "metadata": {},
   "outputs": [],
   "source": [
    "import torch\n",
    "import torch.nn as nn\n",
    "from torchsummary import summary\n",
    "\n",
    "\n",
    "class TestModel(nn.Module):\n",
    "    def __init__(self, num_classes):\n",
    "        super().__init__()\n",
    "        self.model = timm.create_model(\"swin_base_patch4_window7_224\", pretrained=True, num_classes=18)  # num_features = 1024\n",
    "        \n",
    "        # for param in self.model.parameters():\n",
    "        #     param.requires_grad = False\n",
    "        for name, param in self.model.named_parameters():\n",
    "            if \"head\" in name:\n",
    "                print(name, param.requires_grad)\n",
    "                continue\n",
    "            param.requires_grad = False\n",
    "        \n",
    "    \n",
    "    def forward(self, x):\n",
    "        x = self.model(x)\n",
    "        return x\n",
    "        \n",
    "\n",
    "model = TestModel(3).cuda()\n",
    "summary(model, (3, 224, 224), 1)"
   ]
  },
  {
   "cell_type": "code",
   "execution_count": 52,
   "metadata": {},
   "outputs": [
    {
     "data": {
      "text/plain": [
       "(tensor([ 100,  500, 1000]), tensor([10.,  2.,  1.]))"
      ]
     },
     "execution_count": 52,
     "metadata": {},
     "output_type": "execute_result"
    }
   ],
   "source": [
    "import torch\n",
    "\n",
    "\n",
    "class_1 = torch.zeros(100).long()\n",
    "class_2 = torch.ones(500).long()\n",
    "class_3 = torch.fill(torch.ones(1000), 2).long()\n",
    "batch = torch.hstack([class_1, class_2, class_3]).view(-1)\n",
    "\n",
    "each_class_count = batch.bincount()\n",
    "maximum = each_class_count.max()\n",
    "each_class_count, maximum / each_class_count"
   ]
  },
  {
   "cell_type": "code",
   "execution_count": 53,
   "metadata": {},
   "outputs": [
    {
     "data": {
      "text/plain": [
       "(tensor([ 100,  500, 1000]), tensor([1.0000, 0.2000, 0.1000]))"
      ]
     },
     "execution_count": 53,
     "metadata": {},
     "output_type": "execute_result"
    }
   ],
   "source": [
    "import torch\n",
    "\n",
    "\n",
    "class_1 = torch.zeros(100).long()\n",
    "class_2 = torch.ones(500).long()\n",
    "class_3 = torch.fill(torch.ones(1000), 2).long()\n",
    "batch = torch.hstack([class_1, class_2, class_3]).view(-1)\n",
    "\n",
    "each_class_count = batch.bincount()\n",
    "minimum = each_class_count.min()\n",
    "each_class_count, minimum / each_class_count"
   ]
  }
 ],
 "metadata": {
  "kernelspec": {
   "display_name": "base",
   "language": "python",
   "name": "python3"
  },
  "language_info": {
   "codemirror_mode": {
    "name": "ipython",
    "version": 3
   },
   "file_extension": ".py",
   "mimetype": "text/x-python",
   "name": "python",
   "nbconvert_exporter": "python",
   "pygments_lexer": "ipython3",
   "version": "3.10.13"
  }
 },
 "nbformat": 4,
 "nbformat_minor": 2
}
