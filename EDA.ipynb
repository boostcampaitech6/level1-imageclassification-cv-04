{
 "cells": [
  {
   "cell_type": "code",
   "execution_count": 3,
   "metadata": {},
   "outputs": [],
   "source": [
    "import os\n",
    "import sys\n",
    "\n",
    "import pandas as pd\n",
    "import numpy as np\n",
    "\n",
    "# import cv2\n",
    "from glob import glob\n",
    "from PIL import Image\n",
    "\n",
    "from tqdm import tqdm\n",
    "\n",
    "import matplotlib.pyplot as plt\n",
    "import seaborn as sns\n",
    "\n",
    "# import warnings\n",
    "# warnings.filterwarnings(\"ignore\")"
   ]
  },
  {
   "cell_type": "markdown",
   "metadata": {},
   "source": [
    "### 주어진 정보\n",
    "\n",
    "- 훈련 데이터 구성\n",
    "    1. 2700명의 이미지\n",
    "    2. 한 사람당 `mask1 ~ mask5` 5장, `incorrect_mask` 1장, `normal` 1장 총 7장의 사진으로 구성\n",
    "    3. 이미지 크기: (384, 512)\n",
    "    4. 결과값으로 총 18개의 클래스(0 ~ 17)를 분류해야 합니다.\n",
    "        - 18개의 클래스는 각각의 경우(mask 착용 여부, 성별, 연령)를 모두 곱한 경우 즉, 모든 경우의 수\n",
    "        - 각 클래스별 세부내용\n",
    "            - A. Mask 착용 여부 - `Mask` : 0, `Incorrect` : 1, `Not wear` : 2\n",
    "            - B. 나이 - `< 30` : 0, `>= 30 and < 60` : 1, `>= 60` : 2\n",
    "            - C. 성별 - `Male` : 0, `Female` : 1"
   ]
  },
  {
   "cell_type": "code",
   "execution_count": 2,
   "metadata": {},
   "outputs": [],
   "source": [
    "#Path\n",
    "class ConfigPath:\n",
    "    data_dir = \"../data/train\"\n",
    "    image_dir = f\"{data_dir}/images\"\n",
    "    csv_path = f\"{data_dir}/train.csv\""
   ]
  },
  {
   "cell_type": "code",
   "execution_count": 3,
   "metadata": {},
   "outputs": [
    {
     "data": {
      "text/html": [
       "<div>\n",
       "<style scoped>\n",
       "    .dataframe tbody tr th:only-of-type {\n",
       "        vertical-align: middle;\n",
       "    }\n",
       "\n",
       "    .dataframe tbody tr th {\n",
       "        vertical-align: top;\n",
       "    }\n",
       "\n",
       "    .dataframe thead th {\n",
       "        text-align: right;\n",
       "    }\n",
       "</style>\n",
       "<table border=\"1\" class=\"dataframe\">\n",
       "  <thead>\n",
       "    <tr style=\"text-align: right;\">\n",
       "      <th></th>\n",
       "      <th>id</th>\n",
       "      <th>gender</th>\n",
       "      <th>race</th>\n",
       "      <th>age</th>\n",
       "      <th>path</th>\n",
       "    </tr>\n",
       "  </thead>\n",
       "  <tbody>\n",
       "    <tr>\n",
       "      <th>307</th>\n",
       "      <td>000730</td>\n",
       "      <td>female</td>\n",
       "      <td>Asian</td>\n",
       "      <td>51</td>\n",
       "      <td>000730_female_Asian_51</td>\n",
       "    </tr>\n",
       "    <tr>\n",
       "      <th>316</th>\n",
       "      <td>000740</td>\n",
       "      <td>female</td>\n",
       "      <td>Asian</td>\n",
       "      <td>52</td>\n",
       "      <td>000740_female_Asian_52</td>\n",
       "    </tr>\n",
       "    <tr>\n",
       "      <th>217</th>\n",
       "      <td>000614</td>\n",
       "      <td>female</td>\n",
       "      <td>Asian</td>\n",
       "      <td>56</td>\n",
       "      <td>000614_female_Asian_56</td>\n",
       "    </tr>\n",
       "    <tr>\n",
       "      <th>1313</th>\n",
       "      <td>003332</td>\n",
       "      <td>female</td>\n",
       "      <td>Asian</td>\n",
       "      <td>19</td>\n",
       "      <td>003332_female_Asian_19</td>\n",
       "    </tr>\n",
       "    <tr>\n",
       "      <th>1180</th>\n",
       "      <td>003136</td>\n",
       "      <td>female</td>\n",
       "      <td>Asian</td>\n",
       "      <td>19</td>\n",
       "      <td>003136_female_Asian_19</td>\n",
       "    </tr>\n",
       "    <tr>\n",
       "      <th>2012</th>\n",
       "      <td>005071</td>\n",
       "      <td>male</td>\n",
       "      <td>Asian</td>\n",
       "      <td>60</td>\n",
       "      <td>005071_male_Asian_60</td>\n",
       "    </tr>\n",
       "    <tr>\n",
       "      <th>1095</th>\n",
       "      <td>003031</td>\n",
       "      <td>female</td>\n",
       "      <td>Asian</td>\n",
       "      <td>19</td>\n",
       "      <td>003031_female_Asian_19</td>\n",
       "    </tr>\n",
       "    <tr>\n",
       "      <th>732</th>\n",
       "      <td>001464-1</td>\n",
       "      <td>female</td>\n",
       "      <td>Asian</td>\n",
       "      <td>56</td>\n",
       "      <td>001464-1_female_Asian_56</td>\n",
       "    </tr>\n",
       "    <tr>\n",
       "      <th>1125</th>\n",
       "      <td>003064</td>\n",
       "      <td>female</td>\n",
       "      <td>Asian</td>\n",
       "      <td>20</td>\n",
       "      <td>003064_female_Asian_20</td>\n",
       "    </tr>\n",
       "    <tr>\n",
       "      <th>1355</th>\n",
       "      <td>003382</td>\n",
       "      <td>female</td>\n",
       "      <td>Asian</td>\n",
       "      <td>20</td>\n",
       "      <td>003382_female_Asian_20</td>\n",
       "    </tr>\n",
       "  </tbody>\n",
       "</table>\n",
       "</div>"
      ],
      "text/plain": [
       "            id  gender   race  age                      path\n",
       "307     000730  female  Asian   51    000730_female_Asian_51\n",
       "316     000740  female  Asian   52    000740_female_Asian_52\n",
       "217     000614  female  Asian   56    000614_female_Asian_56\n",
       "1313    003332  female  Asian   19    003332_female_Asian_19\n",
       "1180    003136  female  Asian   19    003136_female_Asian_19\n",
       "2012    005071    male  Asian   60      005071_male_Asian_60\n",
       "1095    003031  female  Asian   19    003031_female_Asian_19\n",
       "732   001464-1  female  Asian   56  001464-1_female_Asian_56\n",
       "1125    003064  female  Asian   20    003064_female_Asian_20\n",
       "1355    003382  female  Asian   20    003382_female_Asian_20"
      ]
     },
     "execution_count": 3,
     "metadata": {},
     "output_type": "execute_result"
    }
   ],
   "source": [
    "train_data = pd.read_csv(ConfigPath.csv_path)\n",
    "train_data.sample(10)"
   ]
  },
  {
   "cell_type": "markdown",
   "metadata": {},
   "source": [
    "#### 결측치 확인"
   ]
  },
  {
   "cell_type": "code",
   "execution_count": 4,
   "metadata": {},
   "outputs": [
    {
     "data": {
      "text/plain": [
       "id        0\n",
       "gender    0\n",
       "race      0\n",
       "age       0\n",
       "path      0\n",
       "dtype: int64"
      ]
     },
     "execution_count": 4,
     "metadata": {},
     "output_type": "execute_result"
    }
   ],
   "source": [
    "train_data.isna().sum()"
   ]
  },
  {
   "cell_type": "markdown",
   "metadata": {},
   "source": [
    "### 훈련 데이터 분포"
   ]
  },
  {
   "cell_type": "code",
   "execution_count": 5,
   "metadata": {},
   "outputs": [
    {
     "data": {
      "text/html": [
       "<div>\n",
       "<style scoped>\n",
       "    .dataframe tbody tr th:only-of-type {\n",
       "        vertical-align: middle;\n",
       "    }\n",
       "\n",
       "    .dataframe tbody tr th {\n",
       "        vertical-align: top;\n",
       "    }\n",
       "\n",
       "    .dataframe thead th {\n",
       "        text-align: right;\n",
       "    }\n",
       "</style>\n",
       "<table border=\"1\" class=\"dataframe\">\n",
       "  <thead>\n",
       "    <tr style=\"text-align: right;\">\n",
       "      <th></th>\n",
       "      <th>id</th>\n",
       "      <th>path</th>\n",
       "      <th>age</th>\n",
       "      <th>gender</th>\n",
       "      <th>mask_label</th>\n",
       "      <th>gender_label</th>\n",
       "      <th>age_label</th>\n",
       "    </tr>\n",
       "  </thead>\n",
       "  <tbody>\n",
       "    <tr>\n",
       "      <th>10204</th>\n",
       "      <td>003523</td>\n",
       "      <td>./train/images/003523_male_Asian_59/mask2.jpg</td>\n",
       "      <td>59</td>\n",
       "      <td>male</td>\n",
       "      <td>0</td>\n",
       "      <td>0</td>\n",
       "      <td>1</td>\n",
       "    </tr>\n",
       "    <tr>\n",
       "      <th>8068</th>\n",
       "      <td>003102</td>\n",
       "      <td>./train/images/003102_female_Asian_20/normal.jpg</td>\n",
       "      <td>20</td>\n",
       "      <td>female</td>\n",
       "      <td>2</td>\n",
       "      <td>1</td>\n",
       "      <td>0</td>\n",
       "    </tr>\n",
       "    <tr>\n",
       "      <th>16597</th>\n",
       "      <td>006258</td>\n",
       "      <td>./train/images/006258_female_Asian_20/incorrec...</td>\n",
       "      <td>20</td>\n",
       "      <td>female</td>\n",
       "      <td>1</td>\n",
       "      <td>1</td>\n",
       "      <td>0</td>\n",
       "    </tr>\n",
       "    <tr>\n",
       "      <th>14745</th>\n",
       "      <td>005274</td>\n",
       "      <td>./train/images/005274_male_Asian_20/mask1.jpg</td>\n",
       "      <td>20</td>\n",
       "      <td>male</td>\n",
       "      <td>0</td>\n",
       "      <td>0</td>\n",
       "      <td>0</td>\n",
       "    </tr>\n",
       "    <tr>\n",
       "      <th>9238</th>\n",
       "      <td>003343</td>\n",
       "      <td>./train/images/003343_female_Asian_20/mask2.jpg</td>\n",
       "      <td>20</td>\n",
       "      <td>female</td>\n",
       "      <td>0</td>\n",
       "      <td>1</td>\n",
       "      <td>0</td>\n",
       "    </tr>\n",
       "  </tbody>\n",
       "</table>\n",
       "</div>"
      ],
      "text/plain": [
       "           id                                               path  age  gender  \\\n",
       "10204  003523      ./train/images/003523_male_Asian_59/mask2.jpg   59    male   \n",
       "8068   003102   ./train/images/003102_female_Asian_20/normal.jpg   20  female   \n",
       "16597  006258  ./train/images/006258_female_Asian_20/incorrec...   20  female   \n",
       "14745  005274      ./train/images/005274_male_Asian_20/mask1.jpg   20    male   \n",
       "9238   003343    ./train/images/003343_female_Asian_20/mask2.jpg   20  female   \n",
       "\n",
       "       mask_label  gender_label  age_label  \n",
       "10204           0             0          1  \n",
       "8068            2             1          0  \n",
       "16597           1             1          0  \n",
       "14745           0             0          0  \n",
       "9238            0             1          0  "
      ]
     },
     "execution_count": 5,
     "metadata": {},
     "output_type": "execute_result"
    }
   ],
   "source": [
    "\n",
    "labels = [\"mask1\", \"mask2\", \"mask3\", \"mask4\", \"mask5\"]\n",
    "label_to_number = {k:0 for k in labels}\n",
    "label_to_number[\"incorrect_mask\"] = 1\n",
    "label_to_number[\"normal\"] = 2\n",
    "label_to_number[\"male\"] = 0\n",
    "label_to_number[\"female\"] = 1\n",
    "\n",
    "new_data = []\n",
    "\n",
    "for idx, image_path in enumerate(train_data.path):\n",
    "    age = train_data.age[idx]\n",
    "    gender = train_data.gender[idx]\n",
    "    \n",
    "    for image in glob(os.path.join(ConfigPath.image_dir, image_path, \"*\")):\n",
    "        temp = [train_data.id[idx], image, age, gender]\n",
    "        mask = image.split(\"/\")[-1].split(\".\")[0]\n",
    "        temp.append(label_to_number[mask])\n",
    "        temp.append(label_to_number[gender])\n",
    "        \n",
    "        if age < 30:\n",
    "            temp.append(0)\n",
    "        elif 30 <= age < 60:\n",
    "            temp.append(1)\n",
    "        else:\n",
    "            temp.append(2)\n",
    "        \n",
    "        new_data.append(temp)\n",
    "\n",
    "new_train_data = pd.DataFrame(new_data,\n",
    "    columns=[\"id\", \"path\", \"age\", \"gender\", \"mask_label\", \"gender_label\", \"age_label\"])\n",
    "new_train_data.sample(5)"
   ]
  },
  {
   "cell_type": "code",
   "execution_count": 6,
   "metadata": {},
   "outputs": [
    {
     "data": {
      "text/html": [
       "<div>\n",
       "<style scoped>\n",
       "    .dataframe tbody tr th:only-of-type {\n",
       "        vertical-align: middle;\n",
       "    }\n",
       "\n",
       "    .dataframe tbody tr th {\n",
       "        vertical-align: top;\n",
       "    }\n",
       "\n",
       "    .dataframe thead th {\n",
       "        text-align: right;\n",
       "    }\n",
       "</style>\n",
       "<table border=\"1\" class=\"dataframe\">\n",
       "  <thead>\n",
       "    <tr style=\"text-align: right;\">\n",
       "      <th></th>\n",
       "      <th>id</th>\n",
       "      <th>path</th>\n",
       "      <th>age</th>\n",
       "      <th>gender</th>\n",
       "      <th>mask_label</th>\n",
       "      <th>gender_label</th>\n",
       "      <th>age_label</th>\n",
       "      <th>all_classes</th>\n",
       "    </tr>\n",
       "  </thead>\n",
       "  <tbody>\n",
       "    <tr>\n",
       "      <th>0</th>\n",
       "      <td>000001</td>\n",
       "      <td>./train/images/000001_female_Asian_45/incorrec...</td>\n",
       "      <td>45</td>\n",
       "      <td>female</td>\n",
       "      <td>1</td>\n",
       "      <td>1</td>\n",
       "      <td>1</td>\n",
       "      <td>10</td>\n",
       "    </tr>\n",
       "    <tr>\n",
       "      <th>1</th>\n",
       "      <td>000001</td>\n",
       "      <td>./train/images/000001_female_Asian_45/mask4.jpg</td>\n",
       "      <td>45</td>\n",
       "      <td>female</td>\n",
       "      <td>0</td>\n",
       "      <td>1</td>\n",
       "      <td>1</td>\n",
       "      <td>4</td>\n",
       "    </tr>\n",
       "    <tr>\n",
       "      <th>2</th>\n",
       "      <td>000001</td>\n",
       "      <td>./train/images/000001_female_Asian_45/mask5.jpg</td>\n",
       "      <td>45</td>\n",
       "      <td>female</td>\n",
       "      <td>0</td>\n",
       "      <td>1</td>\n",
       "      <td>1</td>\n",
       "      <td>4</td>\n",
       "    </tr>\n",
       "    <tr>\n",
       "      <th>3</th>\n",
       "      <td>000001</td>\n",
       "      <td>./train/images/000001_female_Asian_45/mask1.jpg</td>\n",
       "      <td>45</td>\n",
       "      <td>female</td>\n",
       "      <td>0</td>\n",
       "      <td>1</td>\n",
       "      <td>1</td>\n",
       "      <td>4</td>\n",
       "    </tr>\n",
       "    <tr>\n",
       "      <th>4</th>\n",
       "      <td>000001</td>\n",
       "      <td>./train/images/000001_female_Asian_45/normal.jpg</td>\n",
       "      <td>45</td>\n",
       "      <td>female</td>\n",
       "      <td>2</td>\n",
       "      <td>1</td>\n",
       "      <td>1</td>\n",
       "      <td>16</td>\n",
       "    </tr>\n",
       "  </tbody>\n",
       "</table>\n",
       "</div>"
      ],
      "text/plain": [
       "       id                                               path  age  gender  \\\n",
       "0  000001  ./train/images/000001_female_Asian_45/incorrec...   45  female   \n",
       "1  000001    ./train/images/000001_female_Asian_45/mask4.jpg   45  female   \n",
       "2  000001    ./train/images/000001_female_Asian_45/mask5.jpg   45  female   \n",
       "3  000001    ./train/images/000001_female_Asian_45/mask1.jpg   45  female   \n",
       "4  000001   ./train/images/000001_female_Asian_45/normal.jpg   45  female   \n",
       "\n",
       "   mask_label  gender_label  age_label  all_classes  \n",
       "0           1             1          1           10  \n",
       "1           0             1          1            4  \n",
       "2           0             1          1            4  \n",
       "3           0             1          1            4  \n",
       "4           2             1          1           16  "
      ]
     },
     "execution_count": 6,
     "metadata": {},
     "output_type": "execute_result"
    }
   ],
   "source": [
    "# 전체 클래스 열 추가\n",
    "all_classes = []\n",
    "\n",
    "for mask, gender, age in zip(new_train_data[\"mask_label\"], new_train_data[\"gender_label\"],\\\n",
    "    new_train_data[\"age_label\"]):\n",
    "    case = mask*6 + gender*3 + age\n",
    "    all_classes.append(case)\n",
    "\n",
    "new_train_data[\"all_classes\"] = all_classes\n",
    "new_train_data.head()"
   ]
  },
  {
   "cell_type": "markdown",
   "metadata": {},
   "source": [
    "#### 전체 클래스 분포"
   ]
  },
  {
   "cell_type": "code",
   "execution_count": 20,
   "metadata": {},
   "outputs": [],
   "source": [
    "def show_total_classes_distribution(x, y, mode=\"pivot\"):\n",
    "    if mode is not None:\n",
    "        pivots = [3, 4, 8, 11, 14, 17]\n",
    "        color = [\"red\" if i in pivots else \"darkgray\" for i in range(18)]\n",
    "    else:\n",
    "        color = \"darkgray\"\n",
    "    \n",
    "    fig, ax = plt.subplots(1, 1, figsize=(12, 30))\n",
    "    ax.bar(y, x, color=color, edgecolor=\"black\", linewidth=2)\n",
    "\n",
    "    for label in range(18):\n",
    "        ax.text(label, x[label], s=x[label],\n",
    "                fontweight='bold', ha='center', va=\"bottom\",\n",
    "                bbox=dict(boxstyle='round,pad=0.3', fc='#1ABDE9', ec='black', alpha=0.3))\n",
    "\n",
    "    ax.set_xticks(y)\n",
    "    ax.axes.yaxis.set_ticks(list(range(0,max(x),50)))\n",
    "    \n",
    "    plt.ylabel(\"Number of images\")\n",
    "    for s in ['top', 'right']:\n",
    "        ax.spines[s].set_visible(False)\n",
    "    ax.set_title(\"All classes distribution\",\n",
    "                fontdict={\"fontfamily\":\"serif\",\"fontweight\":\"bold\",\"fontsize\":15})\n",
    "    plt.show()"
   ]
  },
  {
   "cell_type": "code",
   "execution_count": 21,
   "metadata": {},
   "outputs": [
    {
     "data": {
      "text/plain": [
       "(all_classes\n",
       " 0     2745\n",
       " 1     2050\n",
       " 2      415\n",
       " 3     3660\n",
       " 4     4085\n",
       " 5      545\n",
       " 6      549\n",
       " 7      410\n",
       " 8       83\n",
       " 9      732\n",
       " 10     817\n",
       " 11     109\n",
       " 12     549\n",
       " 13     410\n",
       " 14      83\n",
       " 15     732\n",
       " 16     817\n",
       " 17     109\n",
       " Name: count, dtype: int64,\n",
       " array([ 0,  1,  2,  3,  4,  5,  6,  7,  8,  9, 10, 11, 12, 13, 14, 15, 16,\n",
       "        17]))"
      ]
     },
     "execution_count": 21,
     "metadata": {},
     "output_type": "execute_result"
    }
   ],
   "source": [
    "data = new_train_data[\"all_classes\"].value_counts().sort_index()\n",
    "labels = data.index.values\n",
    "data, labels"
   ]
  },
  {
   "cell_type": "code",
   "execution_count": null,
   "metadata": {},
   "outputs": [],
   "source": [
    "show_total_classes_distribution(data, labels, None)"
   ]
  },
  {
   "cell_type": "markdown",
   "metadata": {},
   "source": [
    "클래스 불균형이 심해 보인다.\n",
    "유난히 많거나 적은 데이터를 따로 표시해보자."
   ]
  },
  {
   "cell_type": "code",
   "execution_count": 116,
   "metadata": {},
   "outputs": [
    {
     "data": {
      "image/png": "[encoded data removed]",
      "text/plain": [
       "<Figure size 1200x800 with 1 Axes>"
      ]
     },
     "metadata": {},
     "output_type": "display_data"
    }
   ],
   "source": [
    "show_total_classes_distribution(data, labels)"
   ]
  },
  {
   "cell_type": "markdown",
   "metadata": {},
   "source": [
    "#### 마스크 착용 상태 분포"
   ]
  },
  {
   "cell_type": "code",
   "execution_count": 150,
   "metadata": {},
   "outputs": [
    {
     "data": {
      "text/plain": [
       "(mask_label\n",
       " 0    13500\n",
       " 1     2700\n",
       " 2     2700\n",
       " Name: count, dtype: int64,\n",
       " array([0, 1, 2]))"
      ]
     },
     "execution_count": 150,
     "metadata": {},
     "output_type": "execute_result"
    }
   ],
   "source": [
    "mask_data = new_train_data[\"mask_label\"].value_counts().sort_index()\n",
    "mask_labels = mask_data.index.values\n",
    "mask_data, mask_labels"
   ]
  },
  {
   "cell_type": "code",
   "execution_count": 162,
   "metadata": {},
   "outputs": [
    {
     "data": {
      "image/png": "[encoded data removed]",
      "text/plain": [
       "<Figure size 600x400 with 1 Axes>"
      ]
     },
     "metadata": {},
     "output_type": "display_data"
    }
   ],
   "source": [
    "fig, ax = plt.subplots(1, 1, figsize=(6, 4))\n",
    "\n",
    "# barplot\n",
    "ax.bar(['Wear', 'Incorrect', 'Not Wear'], mask_data,\n",
    "    color=\"royalblue\", edgecolor=\"black\", linewidth=1.5, width=.7)\n",
    "\n",
    "# texts\n",
    "percentage = [f\"{i*100:.2f}%\" for i in mask_data / mask_data.sum()]\n",
    "for label in range(3):\n",
    "    ax.text(label, mask_data[label], s=percentage[label],\n",
    "            fontweight='bold', ha='center', va=\"bottom\",\n",
    "            bbox=dict(boxstyle='round,pad=0.3', fc='#1ABDE9', ec='black', alpha=0.3))\n",
    "\n",
    "# ticks\n",
    "ax.axes.yaxis.set_ticks([])\n",
    "\n",
    "# spines\n",
    "for s in [\"top\", \"right\"]:\n",
    "    ax.spines[s].set_visible(False)\n",
    "\n",
    "# graph labels\n",
    "plt.ylabel(\"Percentage of images\")\n",
    "ax.set_title(\"Mask status distribution\",\n",
    "            fontdict={\"fontfamily\":\"serif\",\"fontweight\":\"bold\",\"fontsize\":10})\n",
    "plt.show()"
   ]
  },
  {
   "cell_type": "code",
   "execution_count": null,
   "metadata": {},
   "outputs": [],
   "source": []
  },
  {
   "cell_type": "code",
   "execution_count": 7,
   "metadata": {},
   "outputs": [
    {
     "data": {
      "text/plain": [
       "2"
      ]
     },
     "execution_count": 7,
     "metadata": {},
     "output_type": "execute_result"
    }
   ],
   "source": [
    "int(8**0.5)"
   ]
  },
  {
   "cell_type": "code",
   "execution_count": null,
   "metadata": {},
   "outputs": [],
   "source": [
    "# # max\n",
    "# ax.plot([-1, np.argmax(data)], [data[np.argmax(data)]]*2,\n",
    "#         linestyle='--', color='tomato')\n",
    "\n",
    "# ax.scatter(np.argmax(data), data[np.argmax(data)], \n",
    "#         c='tomato',s=50, zorder=20)\n",
    "\n",
    "# # min\n",
    "# ax.plot([-1, np.argmin(data)], [data[np.argmin(data)]]*2,\n",
    "#         linestyle='--', color='royalblue')\n",
    "\n",
    "# ax.scatter(np.argmin(data), data[np.argmin(data)], \n",
    "#         c='royalblue',s=50, zorder=20)"
   ]
  },
  {
   "cell_type": "code",
   "execution_count": 5,
   "metadata": {},
   "outputs": [
    {
     "data": {
      "text/plain": [
       "tensor([[1, 2, 3, 1, 2, 3],\n",
       "        [4, 5, 6, 4, 5, 6],\n",
       "        [7, 8, 9, 7, 8, 9]])"
      ]
     },
     "execution_count": 5,
     "metadata": {},
     "output_type": "execute_result"
    }
   ],
   "source": [
    "import torch\n",
    "import numpy as np\n",
    "\n",
    "a = torch.tensor([[1,2,3],\n",
    "                  [4,5,6],\n",
    "                  [7,8,9]])\n",
    "b = torch.tensor([[1,2,3],\n",
    "                  [4,5,6],\n",
    "                  [7,8,9]])\n",
    "\n",
    "torch.hstack([a, b])"
   ]
  },
  {
   "cell_type": "code",
   "execution_count": 15,
   "metadata": {},
   "outputs": [
    {
     "data": {
      "text/plain": [
       "tensor(90)"
      ]
     },
     "execution_count": 15,
     "metadata": {},
     "output_type": "execute_result"
    }
   ],
   "source": [
    "torch.sum(a + b)"
   ]
  },
  {
   "cell_type": "code",
   "execution_count": null,
   "metadata": {},
   "outputs": [],
   "source": []
  }
 ],
 "metadata": {
  "kernelspec": {
   "display_name": "base",
   "language": "python",
   "name": "python3"
  },
  "language_info": {
   "codemirror_mode": {
    "name": "ipython",
    "version": 3
   },
   "file_extension": ".py",
   "mimetype": "text/x-python",
   "name": "python",
   "nbconvert_exporter": "python",
   "pygments_lexer": "ipython3",
   "version": "3.10.13"
  }
 },
 "nbformat": 4,
 "nbformat_minor": 2
}
